{
  "nbformat": 4,
  "nbformat_minor": 0,
  "metadata": {
    "colab": {
      "provenance": []
    },
    "kernelspec": {
      "name": "python3",
      "display_name": "Python 3"
    },
    "language_info": {
      "name": "python"
    }
  },
  "cells": [
    {
      "cell_type": "code",
      "execution_count": 8,
      "metadata": {
        "colab": {
          "base_uri": "https://localhost:8080/"
        },
        "id": "tvm5AHtiQOgF",
        "outputId": "468123f7-7bb3-4f05-a4e8-99f5b6e95536"
      },
      "outputs": [
        {
          "output_type": "stream",
          "name": "stdout",
          "text": [
            "Enter the tweet: car ablaze in bangalore\n",
            "This tweet is a disaster.\n"
          ]
        }
      ],
      "source": [
        "# Importing the necessary libraries\n",
        "import pandas as pd\n",
        "from sklearn.feature_extraction.text import CountVectorizer\n",
        "from sklearn.tree import DecisionTreeClassifier\n",
        "\n",
        "# Load the dataset\n",
        "data = pd.read_csv('/content/tweets.csv')  # Replace 'tweets.csv' with the path to your dataset\n",
        "\n",
        "# Preprocess the data\n",
        "vectorizer = CountVectorizer()\n",
        "X = vectorizer.fit_transform(data['text'])\n",
        "y = data['target']\n",
        "\n",
        "# Create the decision tree classifier\n",
        "clf = DecisionTreeClassifier()\n",
        "\n",
        "# Train the classifier\n",
        "clf.fit(X, y)\n",
        "\n",
        "# Define a function to predict if a tweet is a disaster or not\n",
        "def predict_tweet(tweet):\n",
        "    tweet_vector = vectorizer.transform([tweet])\n",
        "    prediction = clf.predict(tweet_vector)\n",
        "    if prediction[0] == 1:\n",
        "        return \"This tweet is a disaster.\"\n",
        "    else:\n",
        "        return \"This tweet is not a disaster.\"\n",
        "\n",
        "# Test the function with a sample tweet\n",
        "tweet =input(\"Enter the tweet: \")\n",
        "result = predict_tweet(tweet)\n",
        "print(result)\n"
      ]
    }
  ]
}