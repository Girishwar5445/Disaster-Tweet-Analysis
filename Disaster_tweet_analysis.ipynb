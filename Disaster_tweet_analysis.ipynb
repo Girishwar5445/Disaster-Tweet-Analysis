{
  "nbformat": 4,
  "nbformat_minor": 0,
  "metadata": {
    "colab": {
      "provenance": []
    },
    "kernelspec": {
      "name": "python3",
      "display_name": "Python 3"
    },
    "language_info": {
      "name": "python"
    }
  },
  "cells": [
    {
      "cell_type": "code",
      "execution_count": null,
      "metadata": {
        "id": "xFB-xV1qUP82"
      },
      "outputs": [],
      "source": [
        "# Importing the necessary libraries\n",
        "import pandas as pd\n",
        "from sklearn.feature_extraction.text import TfidfVectorizer\n",
        "from sklearn.linear_model import LogisticRegression\n",
        "\n",
        "# Load the dataset\n",
        "data = pd.read_csv('/content/tweets.csv')  # Replace 'tweets.csv' with the path to your dataset\n",
        "\n",
        "# Preprocess the data\n",
        "vectorizer = TfidfVectorizer()\n",
        "X = vectorizer.fit_transform(data['text'])\n",
        "y = data['target']\n",
        "\n",
        "# Train the logistic regression model\n",
        "model = LogisticRegression()\n",
        "model.fit(X, y)\n",
        "\n",
        "# Function to predict if a tweet is a disaster tweet or not\n",
        "def predict_tweet(tweet):\n",
        "    tweet_vector = vectorizer.transform([tweet])\n",
        "    prediction = model.predict(tweet_vector)\n",
        "    if prediction[0] == 1:\n",
        "        return \"This is a disaster tweet.\"\n",
        "    else:\n",
        "        return \"This is not a disaster tweet.\"\n",
        "\n",
        "# Example usage\n",
        "tweet = input(\"Enter the tweet:\")\n",
        "prediction = predict_tweet(tweet)\n",
        "print(prediction)"
      ]
    }
  ]
}